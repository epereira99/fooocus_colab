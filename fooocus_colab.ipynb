{
  "cells": [
    {
      "cell_type": "code",
      "source": [
        "from google.colab import drive\n",
        "drive.mount('/content/drive')\n"
      ],
      "metadata": {
        "colab": {
          "base_uri": "https://localhost:8080/"
        },
        "id": "GGg_eOyvJqqd",
        "outputId": "6eedc66f-fa2a-473e-e8d3-ca2ea3d5e46a"
      },
      "execution_count": 9,
      "outputs": [
        {
          "output_type": "stream",
          "name": "stdout",
          "text": [
            "Drive already mounted at /content/drive; to attempt to forcibly remount, call drive.mount(\"/content/drive\", force_remount=True).\n"
          ]
        }
      ]
    },
    {
      "cell_type": "code",
      "source": [
        "%%bash\n",
        "cd /content\n",
        "# Use your fork (recommended if you changed code)\n",
        "# Replace <user>/<repo> with your fork path\n",
        "if [ ! -d \"Fooocus\" ]; then\n",
        "  git clone https://github.com/lllyasviel/Fooocus.git\n",
        "else\n",
        "  cd Fooocus\n",
        "  git pull\n",
        "fi\n",
        "\n",
        "# sanity check\n",
        "ls -lh /content/Fooocus/entry_with_update.py /content/Fooocus/launch.py\n"
      ],
      "metadata": {
        "colab": {
          "base_uri": "https://localhost:8080/"
        },
        "id": "nO3Eq3JwMrQB",
        "outputId": "516b271d-2a1d-47d3-e178-c80146ff1840"
      },
      "execution_count": 10,
      "outputs": [
        {
          "output_type": "stream",
          "name": "stdout",
          "text": [
            "Already up to date.\n",
            "-rw-r--r-- 1 root root 1.4K Aug 19 11:42 /content/Fooocus/entry_with_update.py\n",
            "-rw-r--r-- 1 root root 6.3K Aug 19 11:42 /content/Fooocus/launch.py\n"
          ]
        }
      ]
    },
    {
      "cell_type": "code",
      "source": [
        "%%bash\n",
        "# Canonical Drive base\n",
        "DRIVE_BASE=\"/content/drive/MyDrive/Fooocus\"\n",
        "RUNTIME=\"/content/Fooocus\"\n",
        "\n",
        "mkdir -p \"$DRIVE_BASE/models/checkpoints\" \"$DRIVE_BASE/models/loras\" \"$DRIVE_BASE/styles\" \"$DRIVE_BASE/outputs\"\n",
        "\n",
        "# Link Drive -> runtime\n",
        "ln -sfn \"$DRIVE_BASE/models\"  \"$RUNTIME/models\"\n",
        "ln -sfn \"$DRIVE_BASE/styles\"  \"$RUNTIME/styles\"\n",
        "ln -sfn \"$DRIVE_BASE/outputs\" \"$RUNTIME/outputs\"\n",
        "\n",
        "echo \"Models dir (runtime -> drive):\"\n",
        "ls -la \"$RUNTIME/models\"\n",
        "echo \"Checkpoints in Drive:\"\n",
        "ls -lh \"$RUNTIME/models/checkpoints\" || true\n"
      ],
      "metadata": {
        "colab": {
          "base_uri": "https://localhost:8080/"
        },
        "id": "ZttQ4N6ZM0Xi",
        "outputId": "b43c650d-e62d-4ce3-bbdd-83f8b7f9e253"
      },
      "execution_count": 11,
      "outputs": [
        {
          "output_type": "stream",
          "name": "stdout",
          "text": [
            "Models dir (runtime -> drive):\n",
            "total 84\n",
            "drwxr-xr-x 21 root root 4096 Aug 19 12:00 .\n",
            "drwxr-xr-x 16 root root 4096 Aug 19 12:00 ..\n",
            "drwxr-xr-x  2 root root 4096 Aug 19 11:50 checkpoints\n",
            "drwxr-xr-x  2 root root 4096 Aug 19 11:42 clip\n",
            "drwxr-xr-x  2 root root 4096 Aug 19 11:42 clip_vision\n",
            "drwxr-xr-x  2 root root 4096 Aug 19 11:42 configs\n",
            "drwxr-xr-x  2 root root 4096 Aug 19 11:42 controlnet\n",
            "drwxr-xr-x  2 root root 4096 Aug 19 11:42 diffusers\n",
            "drwxr-xr-x  2 root root 4096 Aug 19 11:42 embeddings\n",
            "drwxr-xr-x  2 root root 4096 Aug 19 11:42 gligen\n",
            "drwxr-xr-x  2 root root 4096 Aug 19 11:42 hypernetworks\n",
            "drwxr-xr-x  2 root root 4096 Aug 19 11:42 inpaint\n",
            "drwxr-xr-x  2 root root 4096 Aug 19 11:50 loras\n",
            "lrwxrwxrwx  1 root root   37 Aug 19 12:00 models -> /content/drive/MyDrive/Fooocus/models\n",
            "drwxr-xr-x  3 root root 4096 Aug 19 11:42 prompt_expansion\n",
            "drwxr-xr-x  2 root root 4096 Aug 19 11:42 safety_checker\n",
            "drwxr-xr-x  2 root root 4096 Aug 19 11:49 sam\n",
            "drwxr-xr-x  2 root root 4096 Aug 19 11:42 style_models\n",
            "drwxr-xr-x  2 root root 4096 Aug 19 11:42 unet\n",
            "drwxr-xr-x  2 root root 4096 Aug 19 11:42 upscale_models\n",
            "drwxr-xr-x  2 root root 4096 Aug 19 11:42 vae\n",
            "drwxr-xr-x  2 root root 4096 Aug 19 11:50 vae_approx\n",
            "Checkpoints in Drive:\n",
            "total 6.7G\n",
            "-rw-r--r-- 1 root root 6.7G Aug 19 11:50 juggernautXL_v8Rundiffusion.safetensors\n",
            "-rw-r--r-- 1 root root    0 Aug 19 11:42 put_checkpoints_here\n"
          ]
        }
      ]
    },
    {
      "cell_type": "code",
      "source": [
        "!python3 /content/Fooocus/entry_with_update.py --share --listen\n"
      ],
      "metadata": {
        "id": "eSY8i3SCOEFx"
      },
      "execution_count": null,
      "outputs": []
    }
  ],
  "metadata": {
    "accelerator": "GPU",
    "colab": {
      "gpuType": "T4",
      "provenance": []
    },
    "kernelspec": {
      "display_name": "Python 3",
      "name": "python3"
    },
    "language_info": {
      "name": "python"
    }
  },
  "nbformat": 4,
  "nbformat_minor": 0
}