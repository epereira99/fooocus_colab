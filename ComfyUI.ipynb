{
  "cells": [
    {
      "cell_type": "code",
      "source": [
        "from google.colab import drive\n",
        "drive.mount('/content/drive')\n"
      ],
      "metadata": {
        "id": "FShtM9zlSQ4L",
        "outputId": "0fa00e81-90ef-40cd-dea4-35b8db21a37d",
        "colab": {
          "base_uri": "https://localhost:8080/"
        }
      },
      "execution_count": 1,
      "outputs": [
        {
          "output_type": "stream",
          "name": "stdout",
          "text": [
            "Mounted at /content/drive\n"
          ]
        }
      ]
    },
    {
      "cell_type": "code",
      "source": [
        "%%bash\n",
        "cd /content\n",
        "if [ ! -d \"ComfyUI\" ]; then\n",
        "  git clone https://github.com/comfyanonymous/ComfyUI.git\n",
        "else\n",
        "  cd ComfyUI && git pull\n",
        "fi\n"
      ],
      "metadata": {
        "id": "vrMBcPjJSTlG",
        "outputId": "89540870-c835-49ea-85b5-9672c366b1aa",
        "colab": {
          "base_uri": "https://localhost:8080/"
        }
      },
      "execution_count": 2,
      "outputs": [
        {
          "output_type": "stream",
          "name": "stderr",
          "text": [
            "Cloning into 'ComfyUI'...\n"
          ]
        }
      ]
    },
    {
      "cell_type": "code",
      "source": [
        "%%bash\n",
        "DRIVE_BASE=\"/content/drive/MyDrive/Fooocus\"\n",
        "RUNTIME=\"/content/ComfyUI\"\n",
        "\n",
        "mkdir -p \"$DRIVE_BASE/models/checkpoints\"\n",
        "\n",
        "ln -sfn \"$DRIVE_BASE/models/checkpoints\" \"$RUNTIME/models/checkpoints\"\n",
        "ln -sfn \"$DRIVE_BASE/models/loras\" \"$RUNTIME/models/loras\"\n",
        "\n",
        "echo \"=== Checkpoints in Drive ===\"\n",
        "ls -lh \"$DRIVE_BASE/models/checkpoints\"\n"
      ],
      "metadata": {
        "id": "VIRmij9cScx7",
        "outputId": "a4881b01-84b0-4ef6-c656-563f6b7e1a01",
        "colab": {
          "base_uri": "https://localhost:8080/"
        }
      },
      "execution_count": 3,
      "outputs": [
        {
          "output_type": "stream",
          "name": "stdout",
          "text": [
            "=== Checkpoints in Drive ===\n",
            "total 29G\n",
            "-rw------- 1 root root  23G Aug 18 20:53 fuxCapacityNSFWPornFlux_31FP16.safetensors\n",
            "-rw------- 1 root root 6.7G Aug 17 11:53 juggernautXL_v8Rundiffusion.safetensors\n"
          ]
        }
      ]
    },
    {
      "cell_type": "code",
      "source": [
        "%%bash\n",
        "cd /content/ComfyUI\n",
        "pip install -q torch torchvision torchaudio xformers --extra-index-url https://download.pytorch.org/whl/cu118\n",
        "pip install -q -r requirements.txt\n"
      ],
      "metadata": {
        "id": "Lu2woFYMSf7A",
        "outputId": "703f6ca2-3817-4b29-881f-7c9dab68f83a",
        "colab": {
          "base_uri": "https://localhost:8080/"
        }
      },
      "execution_count": 4,
      "outputs": [
        {
          "output_type": "stream",
          "name": "stdout",
          "text": [
            "     ━━━━━━━━━━━━━━━━━━━━━━━━━━━━━━━━━━━━━━━ 188.7/188.7 MB 6.0 MB/s eta 0:00:00\n",
            "   ━━━━━━━━━━━━━━━━━━━━━━━━━━━━━━━━━━━━━━━━ 363.4/363.4 MB 5.0 MB/s eta 0:00:00\n",
            "   ━━━━━━━━━━━━━━━━━━━━━━━━━━━━━━━━━━━━━━━━ 13.8/13.8 MB 117.9 MB/s eta 0:00:00\n",
            "   ━━━━━━━━━━━━━━━━━━━━━━━━━━━━━━━━━━━━━━━━ 24.6/24.6 MB 96.9 MB/s eta 0:00:00\n",
            "   ━━━━━━━━━━━━━━━━━━━━━━━━━━━━━━━━━━━━━━━━ 883.7/883.7 kB 55.3 MB/s eta 0:00:00\n",
            "   ━━━━━━━━━━━━━━━━━━━━━━━━━━━━━━━━━━━━━━━━ 664.8/664.8 MB 2.2 MB/s eta 0:00:00\n",
            "   ━━━━━━━━━━━━━━━━━━━━━━━━━━━━━━━━━━━━━━━━ 211.5/211.5 MB 8.4 MB/s eta 0:00:00\n",
            "   ━━━━━━━━━━━━━━━━━━━━━━━━━━━━━━━━━━━━━━━━ 56.3/56.3 MB 12.8 MB/s eta 0:00:00\n",
            "   ━━━━━━━━━━━━━━━━━━━━━━━━━━━━━━━━━━━━━━━━ 127.9/127.9 MB 7.5 MB/s eta 0:00:00\n",
            "   ━━━━━━━━━━━━━━━━━━━━━━━━━━━━━━━━━━━━━━━━ 207.5/207.5 MB 5.7 MB/s eta 0:00:00\n",
            "   ━━━━━━━━━━━━━━━━━━━━━━━━━━━━━━━━━━━━━━━━ 21.1/21.1 MB 105.3 MB/s eta 0:00:00\n",
            "   ━━━━━━━━━━━━━━━━━━━━━━━━━━━━━━━━━━━━━━━━ 13.9/13.9 MB 119.2 MB/s eta 0:00:00\n",
            "     ━━━━━━━━━━━━━━━━━━━━━━━━━━━━━━━━━━━━━━━━ 55.9/55.9 kB 2.8 MB/s eta 0:00:00\n",
            "   ━━━━━━━━━━━━━━━━━━━━━━━━━━━━━━━━━━━━━━━━ 9.8/9.8 MB 93.1 MB/s eta 0:00:00\n",
            "   ━━━━━━━━━━━━━━━━━━━━━━━━━━━━━━━━━━━━━━━━ 68.5/68.5 MB 10.2 MB/s eta 0:00:00\n",
            "   ━━━━━━━━━━━━━━━━━━━━━━━━━━━━━━━━━━━━━━━━ 3.5/3.5 MB 107.3 MB/s eta 0:00:00\n",
            "   ━━━━━━━━━━━━━━━━━━━━━━━━━━━━━━━━━━━━━━━━ 61.2/61.2 kB 6.0 MB/s eta 0:00:00\n",
            "   ━━━━━━━━━━━━━━━━━━━━━━━━━━━━━━━━━━━━━━━━ 247.0/247.0 kB 23.7 MB/s eta 0:00:00\n",
            "   ━━━━━━━━━━━━━━━━━━━━━━━━━━━━━━━━━━━━━━━━ 39.7/39.7 MB 20.3 MB/s eta 0:00:00\n",
            "   ━━━━━━━━━━━━━━━━━━━━━━━━━━━━━━━━━━━━━━━━ 1.1/1.1 MB 68.0 MB/s eta 0:00:00\n",
            "   ━━━━━━━━━━━━━━━━━━━━━━━━━━━━━━━━━━━━━━━━ 305.2/305.2 kB 25.4 MB/s eta 0:00:00\n",
            "   ━━━━━━━━━━━━━━━━━━━━━━━━━━━━━━━━━━━━━━━━ 45.2/45.2 kB 3.9 MB/s eta 0:00:00\n",
            "   ━━━━━━━━━━━━━━━━━━━━━━━━━━━━━━━━━━━━━━━━ 2.8/2.8 MB 101.9 MB/s eta 0:00:00\n"
          ]
        }
      ]
    },
    {
      "cell_type": "code",
      "source": [
        "!python /content/ComfyUI/main.py --listen --port 7860 --share"
      ],
      "metadata": {
        "id": "4lF5EiBjS5sm",
        "outputId": "32faf9b3-038f-4c6c-d258-4d8747ab2ec9",
        "colab": {
          "base_uri": "https://localhost:8080/"
        }
      },
      "execution_count": 8,
      "outputs": [
        {
          "output_type": "stream",
          "name": "stdout",
          "text": [
            "usage: main.py [-h] [--listen [IP]] [--port PORT] [--tls-keyfile TLS_KEYFILE]\n",
            "               [--tls-certfile TLS_CERTFILE] [--enable-cors-header [ORIGIN]]\n",
            "               [--max-upload-size MAX_UPLOAD_SIZE]\n",
            "               [--base-directory BASE_DIRECTORY]\n",
            "               [--extra-model-paths-config PATH [PATH ...]]\n",
            "               [--output-directory OUTPUT_DIRECTORY]\n",
            "               [--temp-directory TEMP_DIRECTORY]\n",
            "               [--input-directory INPUT_DIRECTORY] [--auto-launch]\n",
            "               [--disable-auto-launch] [--cuda-device DEVICE_ID]\n",
            "               [--default-device DEFAULT_DEVICE_ID]\n",
            "               [--cuda-malloc | --disable-cuda-malloc]\n",
            "               [--force-fp32 | --force-fp16]\n",
            "               [--fp32-unet | --fp64-unet | --bf16-unet | --fp16-unet | --fp8_e4m3fn-unet | --fp8_e5m2-unet | --fp8_e8m0fnu-unet]\n",
            "               [--fp16-vae | --fp32-vae | --bf16-vae] [--cpu-vae]\n",
            "               [--fp8_e4m3fn-text-enc | --fp8_e5m2-text-enc | --fp16-text-enc | --fp32-text-enc | --bf16-text-enc]\n",
            "               [--force-channels-last] [--directml [DIRECTML_DEVICE]]\n",
            "               [--oneapi-device-selector SELECTOR_STRING]\n",
            "               [--disable-ipex-optimize] [--supports-fp8-compute]\n",
            "               [--preview-method [none,auto,latent2rgb,taesd]]\n",
            "               [--preview-size PREVIEW_SIZE]\n",
            "               [--cache-classic | --cache-lru CACHE_LRU | --cache-none]\n",
            "               [--use-split-cross-attention | --use-quad-cross-attention | --use-pytorch-cross-attention | --use-sage-attention | --use-flash-attention]\n",
            "               [--disable-xformers]\n",
            "               [--force-upcast-attention | --dont-upcast-attention]\n",
            "               [--gpu-only | --highvram | --normalvram | --lowvram | --novram | --cpu]\n",
            "               [--reserve-vram RESERVE_VRAM] [--async-offload]\n",
            "               [--force-non-blocking]\n",
            "               [--default-hashing-function {md5,sha1,sha256,sha512}]\n",
            "               [--disable-smart-memory] [--deterministic] [--fast [FAST ...]]\n",
            "               [--mmap-torch-files] [--disable-mmap] [--dont-print-server]\n",
            "               [--quick-test-for-ci] [--windows-standalone-build]\n",
            "               [--disable-metadata] [--disable-all-custom-nodes]\n",
            "               [--whitelist-custom-nodes WHITELIST_CUSTOM_NODES [WHITELIST_CUSTOM_NODES ...]]\n",
            "               [--disable-api-nodes] [--multi-user]\n",
            "               [--verbose [{DEBUG,INFO,WARNING,ERROR,CRITICAL}]]\n",
            "               [--log-stdout] [--front-end-version FRONT_END_VERSION]\n",
            "               [--front-end-root FRONT_END_ROOT]\n",
            "               [--user-directory USER_DIRECTORY]\n",
            "               [--enable-compress-response-body]\n",
            "               [--comfy-api-base COMFY_API_BASE] [--database-url DATABASE_URL]\n",
            "main.py: error: unrecognized arguments: --share\n"
          ]
        }
      ]
    },
    {
      "cell_type": "code",
      "source": [
        "# 1) Settings\n",
        "COMFY_DIR = \"/content/ComfyUI\"\n",
        "PORT = 7860\n",
        "NGROK_TOKEN = \"31VTKtzAuQW2Be4u6HUb6fpNA6o_T1ET7QyEQmCkyaTSiAHn\"  # <-- paste your token\n",
        "\n",
        "# 2) Imports & installs\n",
        "import subprocess, time, socket, os, sys\n",
        "!pip -q install pyngrok\n",
        "\n",
        "# 3) Start ComfyUI first (background)\n",
        "#    Bind to 0.0.0.0 and chosen port; capture logs\n",
        "log_path = \"/content/comfy.log\"\n",
        "if os.path.exists(log_path):\n",
        "    os.remove(log_path)\n",
        "\n",
        "comfy = subprocess.Popen(\n",
        "    [\"python3\", \"main.py\", \"--listen\", \"0.0.0.0\", \"--port\", str(PORT)],\n",
        "    cwd=COMFY_DIR,\n",
        "    stdout=open(log_path, \"w\"),\n",
        "    stderr=subprocess.STDOUT,\n",
        "    text=True,\n",
        ")\n",
        "\n",
        "# 4) Wait until port is open (or report crash)\n",
        "def is_port_open(host, port):\n",
        "    with socket.socket() as s:\n",
        "        s.settimeout(1.0)\n",
        "        try:\n",
        "            s.connect((host, port))\n",
        "            return True\n",
        "        except Exception:\n",
        "            return False\n",
        "\n",
        "print(\"Starting ComfyUI… waiting for port\", PORT)\n",
        "deadline = time.time() + 120  # wait up to 120s\n",
        "while time.time() < deadline:\n",
        "    if comfy.poll() is not None:\n",
        "        print(\"ComfyUI process exited early. Last 100 log lines:\\n\")\n",
        "        print(\"\".join(open(log_path).readlines()[-100:]))\n",
        "        raise SystemExit(1)\n",
        "    if is_port_open(\"127.0.0.1\", PORT):\n",
        "        print(\"ComfyUI is up on 127.0.0.1:%d\" % PORT)\n",
        "        break\n",
        "    time.sleep(2)\n",
        "else:\n",
        "    print(\"Timed out waiting for ComfyUI. Last 100 log lines:\\n\")\n",
        "    print(\"\".join(open(log_path).readlines()[-100:]))\n",
        "    raise SystemExit(1)\n",
        "\n",
        "# 5) Open ngrok tunnel AFTER ComfyUI is ready\n",
        "from pyngrok import ngrok, conf\n",
        "conf.get_default().auth_token = NGROK_TOKEN\n",
        "public_url = ngrok.connect(PORT, \"http\")\n",
        "print(\"🌍 Public ComfyUI URL:\", public_url)\n",
        "\n",
        "# 6) Tail logs a bit so you can see activity\n",
        "print(\"\\n--- Last 30 log lines ---\")\n",
        "print(\"\".join(open(log_path).readlines()[-30:]))\n"
      ],
      "metadata": {
        "id": "nOsNyFu5aDzB",
        "outputId": "1bf00a40-0269-4fa2-c090-3c94853dcaa3",
        "colab": {
          "base_uri": "https://localhost:8080/"
        }
      },
      "execution_count": 11,
      "outputs": [
        {
          "output_type": "stream",
          "name": "stdout",
          "text": [
            "Starting ComfyUI… waiting for port 7860\n",
            "ComfyUI is up on 127.0.0.1:7860\n",
            "🌍 Public ComfyUI URL: NgrokTunnel: \"https://6f7fb70d58f6.ngrok-free.app\" -> \"http://localhost:7860\"\n",
            "\n",
            "--- Last 30 log lines ---\n",
            "\n"
          ]
        }
      ]
    },
    {
      "cell_type": "code",
      "source": [],
      "metadata": {
        "id": "D-Kmni20YaJp"
      },
      "execution_count": null,
      "outputs": []
    }
  ],
  "metadata": {
    "accelerator": "GPU",
    "colab": {
      "gpuType": "T4",
      "provenance": []
    },
    "kernelspec": {
      "display_name": "Python 3",
      "name": "python3"
    },
    "language_info": {
      "name": "python"
    }
  },
  "nbformat": 4,
  "nbformat_minor": 0
}